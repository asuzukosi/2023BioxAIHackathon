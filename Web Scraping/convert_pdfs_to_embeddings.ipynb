{
 "cells": [
  {
   "cell_type": "markdown",
   "source": [
    "# Create Vector Databse with Embedding from Research Papers"
   ],
   "metadata": {
    "collapsed": false
   },
   "id": "3b50b612591ffa63"
  },
  {
   "cell_type": "markdown",
   "source": [
    "Define directories"
   ],
   "metadata": {
    "collapsed": false
   },
   "id": "6049cdcf9b51e062"
  },
  {
   "cell_type": "code",
   "execution_count": 16,
   "outputs": [],
   "source": [
    "import os\n",
    "\n",
    "base_dir = os.getcwd()\n",
    "sample_pdf_dir = os.path.join(base_dir, 'sample_pdfs')\n",
    "persist_dir = os.path.join(base_dir, 'database')"
   ],
   "metadata": {
    "collapsed": false,
    "ExecuteTime": {
     "end_time": "2023-11-11T16:31:24.060044Z",
     "start_time": "2023-11-11T16:31:24.057493Z"
    }
   },
   "id": "c7c1a4b3d1bc581f"
  },
  {
   "cell_type": "markdown",
   "source": [
    "Load PDF into arrays"
   ],
   "metadata": {
    "collapsed": false
   },
   "id": "2c2275582f72e844"
  },
  {
   "cell_type": "code",
   "execution_count": 17,
   "outputs": [],
   "source": [
    "import os\n",
    "import getpass\n",
    "\n",
    "os.environ['OPENAI_API_KEY'] = getpass.getpass('OpenAI API Key:')"
   ],
   "metadata": {
    "collapsed": false,
    "ExecuteTime": {
     "end_time": "2023-11-11T16:31:42.564145Z",
     "start_time": "2023-11-11T16:31:30.426185Z"
    }
   },
   "id": "7a953850b1cfb104"
  },
  {
   "cell_type": "code",
   "execution_count": 41,
   "outputs": [
    {
     "name": "stdout",
     "output_type": "stream",
     "text": [
      "['/Applications/PyCharm.app/Contents/plugins/python/helpers-pro/jupyter_debug', '/Applications/PyCharm.app/Contents/plugins/python/helpers/pydev', '/Users/ruigekong/PycharmProjects/2023BioxAIHackathon/Web Scraping', '/Users/ruigekong/PycharmProjects/2023BioxAIHackathon', '/Users/ruigekong/anaconda3/lib/python311.zip', '/Users/ruigekong/anaconda3/lib/python3.11', '/Users/ruigekong/anaconda3/lib/python3.11/lib-dynload', '', '/Users/ruigekong/anaconda3/lib/python3.11/site-packages', '/Users/ruigekong/anaconda3/lib/python3.11/site-packages/aeosa']\n"
     ]
    }
   ],
   "source": [
    "import sys\n",
    "print(sys.path)\n",
    "sys.path.append('/Users/ruigekong/anaconda3/lib/python3.11/site-packages')"
   ],
   "metadata": {
    "collapsed": false,
    "ExecuteTime": {
     "end_time": "2023-11-11T17:02:15.698048Z",
     "start_time": "2023-11-11T17:02:15.685362Z"
    }
   },
   "id": "be25c2ca2cd565f9"
  },
  {
   "cell_type": "code",
   "execution_count": 45,
   "outputs": [
    {
     "name": "stdout",
     "output_type": "stream",
     "text": [
      "page 0: Resource\n",
      "Comparative Analysis and Reﬁnement of Human\n",
      "PSC-Derived Kidney Organoid Differentiation withSingle-Cell Transcriptomics\n",
      "Graphical Abstract\n",
      "Highlights\n",
      "dTwo human kidney organoid protocols were compared by\n",
      "single-cell transcriptomics\n",
      "dBoth protocols generated 10%–20% non-renal cells\n",
      "dKidney organoid cells are immature compared with fetal andadult human kidney\n",
      "dInhibiting BDNF-NTRK2 signaling reduces off-target celltypes by 90%Authors\n",
      "Haojia Wu, Kohei Uchimura,Erinn L. Donnelly, Yuhei Kirita,Samantha A. Morris,Benjamin D. Humphreys\n",
      "Correspondence\n",
      "humphreysbd@wustl.edu\n",
      "In Brief\n",
      "A strong characterization of cell types,lineages, and differentiation statespresent in human PSC-derived kidneyorganoids is critical to improvedifferentiation protocols. Wu et al. usesingle-cell transcriptomics to revealnon-renal cell types, describelineage-speciﬁc expression of regulatorygenes, and report a broadly applicablestrategy to reduce off-target cellpopulations.\n",
      "Wu et al., 2018, Cell Stem Cell 23, 869–881\n",
      "December 6, 2018 ª2018 Elsevier Inc.\n",
      "https://doi.org/10.1016/j.stem.2018.10.010\n"
     ]
    }
   ],
   "source": [
    "from langchain.document_loaders import PyPDFLoader\n",
    "from langchain.document_loaders import DirectoryLoader\n",
    "from langchain.embeddings.openai import OpenAIEmbeddings\n",
    "from langchain.text_splitter import CharacterTextSplitter\n",
    "from langchain.vectorstores import Chroma\n",
    "\n",
    "embedding = OpenAIEmbeddings()\n",
    "loader = PyPDFLoader(os.path.join(sample_pdf_dir,'combined_research_pdf_sample.pdf'),extract_images=False)\n",
    "pdfs = loader.load()\n",
    "print(f'page 0: {pdfs[0].page_content}')\n",
    "db = Chroma.from_documents(documents=pdfs,\n",
    "                           embedding=embedding,\n",
    "                           persist_directory=persist_dir)"
   ],
   "metadata": {
    "collapsed": false,
    "ExecuteTime": {
     "end_time": "2023-11-11T17:07:08.269426Z",
     "start_time": "2023-11-11T17:07:00.459673Z"
    }
   },
   "id": "14cd6c498b582837"
  },
  {
   "cell_type": "markdown",
   "source": [
    "We can then persist the database to disk"
   ],
   "metadata": {
    "collapsed": false
   },
   "id": "75279ab6d2ddbb24"
  },
  {
   "cell_type": "code",
   "execution_count": 22,
   "outputs": [],
   "source": [
    "db.persist()\n",
    "db = None"
   ],
   "metadata": {
    "collapsed": false,
    "ExecuteTime": {
     "end_time": "2023-11-11T16:35:38.121592Z",
     "start_time": "2023-11-11T16:35:38.103540Z"
    }
   },
   "id": "a28857ae0313e66f"
  },
  {
   "cell_type": "markdown",
   "source": [
    "And we can load the persisted databse from disk every time"
   ],
   "metadata": {
    "collapsed": false
   },
   "id": "293c786e1940c865"
  },
  {
   "cell_type": "code",
   "execution_count": 23,
   "outputs": [],
   "source": [
    "db = Chroma(persist_directory=persist_dir,\n",
    "                  embedding_function=embedding)"
   ],
   "metadata": {
    "collapsed": false,
    "ExecuteTime": {
     "end_time": "2023-11-11T16:35:46.673207Z",
     "start_time": "2023-11-11T16:35:46.668736Z"
    }
   },
   "id": "b3a9279a560eaf81"
  },
  {
   "cell_type": "markdown",
   "source": [
    "Example Query"
   ],
   "metadata": {
    "collapsed": false
   },
   "id": "ceb4e0421b7c4a07"
  },
  {
   "cell_type": "code",
   "execution_count": 24,
   "outputs": [
    {
     "name": "stdout",
     "output_type": "stream",
     "text": [
      "High-throughput  single-cell  transcriptomics  on\n",
      "organoids\n",
      "Agnieska  Brazovskaja1,  Barbara  Treutlein1,2,3and  J  Gray  Camp1\n",
      "Three-dimensional  (3D)  tissues  grown  in  culture  from  human\n",
      "stem  cells  offer  the  incredible  opportunity  to  analyze  and\n",
      "manipulate  human  development,  and  to  generate  patient-\n",
      "speciﬁc  models  of  disease.  Methods  to  sequence  DNA  and\n",
      "RNA  in  single  cells  are  being  used  to  analyze  these  so-called\n",
      "‘organoid’  systems  in  high-resolution.  Single-cell\n",
      "transcriptomics  has  been  used  to  quantitate  the  similarity  of\n",
      "organoid  cells  to  primary  tissue  counterparts  in  the  brain,\n",
      "intestine,  liver,  and  kidney,  as  well  as  identify  cell-speciﬁc\n",
      "responses  to  environmental  variables  and  disease  conditions.\n",
      "The  merging  of  these  two  technologies,  single-cell  genomics\n",
      "and  organoids,  will  have  profound  impact  on  personalized\n",
      "medicine  in  the  near  future.\n",
      "Addresses\n",
      "1Max  Planck  Institute  for  Evolutionary  Anthropology,  04103  Leipzig,\n",
      "Germany\n",
      "2Max  Planck  Institute  of  Molecular  Cell  Biology  and  Genetics,\n",
      "01307  Dresden,  Germany\n",
      "3Technical  University  Munich,  80333  Munich,  Germany\n",
      "Corresponding  authors:\n",
      "Treutlein,  Barbara  (barbara_treutlein@eva.mpg.de ),\n",
      "Camp,  J  Gray  (gray_camp@eva.mpg.de )\n",
      "Current  Opinion  in  Biotechnology  2019,  55:167–171\n",
      "This  review  comes  from  a  themed  issue  on  Analytical  biotechnology\n",
      "Edited  by  Saulius  Klimasauskas  and  Linas  Mazutis\n",
      "For  a  complete  overview  see  the  Issue  and  the  Editorial\n",
      "Available  online  29th  November  2018\n",
      "https://doi.org/10.1016/j.copbio.2018.11.0020958-1669/ ã 2018  Published  by  Elsevier  Ltd.\n",
      "Introduction\n",
      "The  human  body  is  composed  of  an  amazing  diversity  of\n",
      "cell  fates,  which  transition  through  various  states  during\n",
      "organ  development,  disease,  and  regeneration.  Methods\n",
      "to  engineer  diverse  human  tissues  from  stem  cells  are\n",
      "being  developed  at  a  rapid  pace  in  order  to  study\n",
      "uniquely  human  organ  development  and  disease  in\n",
      "controlled  culture  environments.  Depending  on  the\n",
      "tissue  and  disease,  these  culture  models  can  be  initiated\n",
      "from  organ-speciﬁc  adult  stem  cells  or  iPSCs  generated\n",
      "from  skin  or  blood  [1].  These  3D  tissues,  commonly\n",
      "called  ‘organoids’,  offer  the  promise  to  more  accurately\n",
      "model  human  development,  physiology  and  disease  thanconventional  2D  culture  counterparts  by  creating\n",
      "complex  microenvironments  where  multiple  lineages\n",
      "structurally  organize  and  communicate  to  maintain  a\n",
      "balanced  physiological  status.  However,  it  has  been\n",
      "unclear  how  precisely  these  organoid  systems  recapitu-\n",
      "late  the  cell  state-speciﬁc  gene  expression  landscapes  of\n",
      "the  tissues  they  intend  to  model.  Single-cell  genomic\n",
      "methods  (reviewed  in  Ref.  [2])  have  brought  new\n",
      "analytic  approaches  to  characterize  these  organoid\n",
      "models  with  more  resolution  and  less  bias  than  previous\n",
      "immunohistological  or  bulk  RNA-seq  descriptions  of\n",
      "organoid  development.\n",
      "Most  single-cell  RNA-seq  methods  require  each  cell  to  be\n",
      "physically  captured  in  a  small  volume  where  cells  can  be\n",
      "lysed,  and  chemistry  can  be  performed  on  the  contents  of\n",
      "each  individual  cell.  Capture  can  be  achieved  by  hand\n",
      "picking  or  ﬂow  cytometric  sorting  into  multi-well  plates\n",
      "[3],  limited  dilutions  into  wafers  containing  hundreds  of\n",
      "microwells  [4],  or  through  valve  [5]  or  droplet-based\n",
      "microﬂuidic  approaches  [6/C15,7/C15].  In  addition,  combinato-\n",
      "rial  barcoding  strategies  have  been  developed  that  enable\n",
      "barcoding  of  cellular  RNAs  without  physically  isolating\n",
      "the  cells  [8].  Each  strategy  has  particular  beneﬁts  or\n",
      "drawbacks  depending  on  the  application,  however  the\n",
      "approaches  that  enable  high-throughput  (thousands  of\n",
      "cells  per  experiment)  are  best  suited  to  efﬁciently  sample\n",
      "the  complex  cellular  diversity  in  organoids  and  to  under-\n",
      "stand  organoid  to  organoid  variability.  One  limitation  of\n",
      "the  higher  throughput  approaches  is  that  only  the  3’  or  5’\n",
      "end  of  the  transcript  is  sequenced  limiting  inquiry  into\n",
      "certain  features  of  the  transcriptome  (e.g.  alternative\n",
      "splicing).\n",
      "These  quantitative  SCG  technologies  are  being  used  to\n",
      "study  how  each  cell  fate  is  regulated  within  complex  multi-\n",
      "lineage  human  organoids  (Figure  1).  This  data  can  be  used\n",
      "to  eventually  generate  organ-level  computational  models\n",
      "of  human  development,  which  may  be  used  to  predict\n",
      "disease  mechanisms.  Here  we  review  recent  advances  at\n",
      "the  intersection  of  single-cell  genomics  (SCG)  and  human\n",
      "tissue  engineering,  and  highlight  existing  challenges  in  the\n",
      "organoid  ﬁeld  where  high-throughput  SCG  strategies  can\n",
      "have  an  immediate  impact.  We  concentrate  on  organoid\n",
      "modeling  of  the  brain,  intestine,  liver,  and  kidney,  where\n",
      "there  has  been  the  most  recent  progress.\n",
      "Brain\n",
      "There  have  been  multiple  methods  published  to  generate\n",
      "3D  tissue  cultures  that  resemble  the  developing  humanAvailable  online  at  www.sciencedirect.com\n",
      "ScienceDirect\n",
      "www.sciencedirect.com  Current  Opinion  in  Biotechnology  2019,  55:167–171\n"
     ]
    }
   ],
   "source": [
    "query = \"What is High-throughput single-cell transcriptomics on organoids?\"\n",
    "docs = db.similarity_search(query)\n",
    "print(docs[0].page_content)"
   ],
   "metadata": {
    "collapsed": false,
    "ExecuteTime": {
     "end_time": "2023-11-11T16:36:24.081368Z",
     "start_time": "2023-11-11T16:36:23.698746Z"
    }
   },
   "id": "1a5be7addb8d1b32"
  },
  {
   "cell_type": "markdown",
   "source": [
    "Now, we use the openai embeddings. Running the cell below would prompt us to enter the api key."
   ],
   "metadata": {
    "collapsed": false
   },
   "id": "ffb76013956c837"
  },
  {
   "cell_type": "markdown",
   "source": [
    "# Create retriever"
   ],
   "metadata": {
    "collapsed": false
   },
   "id": "549e4a240d2dbd1f"
  },
  {
   "cell_type": "code",
   "execution_count": 25,
   "outputs": [],
   "source": [
    "retriever = db.as_retriever()"
   ],
   "metadata": {
    "collapsed": false,
    "ExecuteTime": {
     "end_time": "2023-11-11T16:41:09.705403Z",
     "start_time": "2023-11-11T16:41:09.702748Z"
    }
   },
   "id": "2de5522758117a84"
  },
  {
   "cell_type": "markdown",
   "source": [
    "# Create a question answering chain"
   ],
   "metadata": {
    "collapsed": false
   },
   "id": "5b11af66cc3bad5a"
  },
  {
   "cell_type": "code",
   "execution_count": 36,
   "outputs": [],
   "source": [
    "from langchain.chains import RetrievalQA\n",
    "from langchain.chat_models import ChatOpenAI\n",
    "\n",
    "llm = ChatOpenAI(\n",
    "    model_name='gpt-4',\n",
    "    temperature=0.1\n",
    ")\n",
    "\n",
    "# Create the chain to answer questions\n",
    "qa_chain = RetrievalQA.from_chain_type(llm=llm,\n",
    "                                  chain_type=\"stuff\",\n",
    "                                  retriever=retriever,\n",
    "                                  return_source_documents=True,\n",
    "                                  verbose=True)"
   ],
   "metadata": {
    "collapsed": false,
    "ExecuteTime": {
     "end_time": "2023-11-11T16:51:26.399376Z",
     "start_time": "2023-11-11T16:51:26.391994Z"
    }
   },
   "id": "4218214f19ae7647"
  },
  {
   "cell_type": "code",
   "execution_count": 37,
   "outputs": [],
   "source": [
    "def process_llm_response(llm_response):\n",
    "    print(llm_response['result'])\n",
    "    print('\\n\\nSources:')\n",
    "    for source in llm_response[\"source_documents\"]:\n",
    "        print(source.metadata['source'])\n"
   ],
   "metadata": {
    "collapsed": false,
    "ExecuteTime": {
     "end_time": "2023-11-11T16:51:27.839541Z",
     "start_time": "2023-11-11T16:51:27.827637Z"
    }
   },
   "id": "7248f10e58c455b4"
  },
  {
   "cell_type": "code",
   "execution_count": 38,
   "outputs": [
    {
     "name": "stdout",
     "output_type": "stream",
     "text": [
      "\n",
      "\n",
      "\u001B[1m> Entering new RetrievalQA chain...\u001B[0m\n",
      "\n",
      "\u001B[1m> Finished chain.\u001B[0m\n",
      "An organoid is a miniaturized and simplified version of an organ produced in vitro in three dimensions that shows realistic micro-anatomy. They are derived from one or a few cells from a tissue, embryonic stem cells or induced pluripotent stem cells, which can self-organize in three-dimensional culture owing to their self-renewal and differentiation capacities. Organoids are used for studying individual variations, conducting longitudinal analyses, and modeling the effects of environmental and genetic factors on development in a controlled setting.\n",
      "\n",
      "\n",
      "Sources:\n",
      "/Users/ruigekong/PycharmProjects/2023BioxAIHackathon/Web Scraping/sample_pdfs/combined_research_pdf_sample.pdf\n",
      "/Users/ruigekong/PycharmProjects/2023BioxAIHackathon/Web Scraping/sample_pdfs/combined_research_pdf_sample.pdf\n",
      "/Users/ruigekong/PycharmProjects/2023BioxAIHackathon/Web Scraping/sample_pdfs/combined_research_pdf_sample.pdf\n",
      "/Users/ruigekong/PycharmProjects/2023BioxAIHackathon/Web Scraping/sample_pdfs/combined_research_pdf_sample.pdf\n"
     ]
    }
   ],
   "source": [
    "# Question\n",
    "query = \"What is an organoid?\"\n",
    "llm_response = qa_chain(query)\n",
    "process_llm_response(llm_response)"
   ],
   "metadata": {
    "collapsed": false,
    "ExecuteTime": {
     "end_time": "2023-11-11T16:51:36.733999Z",
     "start_time": "2023-11-11T16:51:29.117971Z"
    }
   },
   "id": "94bdab3e80dbdc8b"
  },
  {
   "cell_type": "markdown",
   "source": [],
   "metadata": {
    "collapsed": false
   },
   "id": "6896a34ae688ac93"
  },
  {
   "cell_type": "markdown",
   "source": [],
   "metadata": {
    "collapsed": false
   },
   "id": "26c4508dcb6dde1b"
  }
 ],
 "metadata": {
  "kernelspec": {
   "display_name": "Python 3",
   "language": "python",
   "name": "python3"
  },
  "language_info": {
   "codemirror_mode": {
    "name": "ipython",
    "version": 2
   },
   "file_extension": ".py",
   "mimetype": "text/x-python",
   "name": "python",
   "nbconvert_exporter": "python",
   "pygments_lexer": "ipython2",
   "version": "2.7.6"
  }
 },
 "nbformat": 4,
 "nbformat_minor": 5
}
