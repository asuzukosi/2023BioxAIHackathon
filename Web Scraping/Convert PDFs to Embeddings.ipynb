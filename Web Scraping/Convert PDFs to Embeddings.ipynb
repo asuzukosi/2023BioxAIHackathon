{
 "cells": [
  {
   "cell_type": "markdown",
   "source": [
    "Define directories"
   ],
   "metadata": {
    "collapsed": false
   },
   "id": "6049cdcf9b51e062"
  },
  {
   "cell_type": "code",
   "execution_count": 18,
   "outputs": [],
   "source": [
    "import os\n",
    "\n",
    "base_dir = os.getcwd()\n",
    "sample_pdf_dir = os.path.join(base_dir, 'sample_pdfs')"
   ],
   "metadata": {
    "collapsed": false,
    "ExecuteTime": {
     "end_time": "2023-11-11T14:49:40.905954Z",
     "start_time": "2023-11-11T14:49:40.856059Z"
    }
   },
   "id": "c7c1a4b3d1bc581f"
  },
  {
   "cell_type": "markdown",
   "source": [
    "Load PDF into arrays"
   ],
   "metadata": {
    "collapsed": false
   },
   "id": "2c2275582f72e844"
  },
  {
   "cell_type": "code",
   "execution_count": 20,
   "outputs": [
    {
     "name": "stdout",
     "output_type": "stream",
     "text": [
      "page 0: These  two  papers  presented  the  ﬁrst  high-throughput  single-cell  RNA-\n",
      "seq  data  using  droplet  microﬂuidic  technology,  and  the  authors  made\n",
      "their  protocols  widely  accessible  to  scientists  enabling  the  establishment\n",
      "of  this  specialized  method  in  labs  around  the  world.  Subsequent  com-\n",
      "mercializations  of  droplet-based  methods  have  dramatically  expanded\n",
      "the  single-cell  genomics  ﬁeld.\n",
      "8.  Rosenberg  AB  et  al.:  Single-cell  proﬁling  of  the  developing\n",
      "mouse  brain  and  spinal  cord  with  split-pool  barcoding .\n",
      "Science  2018,  360:176-182  http://dx.doi.org/10.1126/science.\n",
      "aam8999 .\n",
      "9.  Camp  JG  et  al.:  Human  cerebral  organoids  recapitulate  gene\n",
      "expression  programs  of  fetal  neocortex  development .  Proc\n",
      "Natl  Acad  Sci  U  S  A  2015,  112:15672-15677  http://dx.doi.org/\n",
      "10.1073/pnas.1520760112 .\n",
      "10.\n",
      "/C15/C15Quadrato  G  et  al.:  Cell  diversity  and  network  dynamics  in\n",
      "photosensitive  human  brain  organoids .  Nature  2017,  545:48-53\n",
      "http://dx.doi.org/10.1038/nature22047 .\n",
      "This  was  one  of  the  ﬁrst  explorations  of  cell  diversity  in  human  iPSC-\n",
      "derived  organoids  using  high-throughput  single-cell  transcriptomics\n",
      "(drop-seq  protocol).  The  higher  throughput  method  enabled  comparison\n",
      "of  cell  composition  across  organoid  batches  and  time  points.\n",
      "11.  Renner  M  et  al.:  Self-organized  developmental  patterning  and\n",
      "differentiation  in  cerebral  organoids .  EMBO  J  2017,  36:1316-\n",
      "1329  http://dx.doi.org/10.15252/embj.201694700 .\n",
      "12.  Birey  F  et  al.:  Assembly  of  functionally  integrated  human\n",
      "forebrain  spheroids .  Nature  2017,  545:54-59  http://dx.doi.org/\n",
      "10.1038/nature22330 .\n",
      "13.  Pollen  AA  et  al.:  Molecular  identity  of  human  outer  radial  glia\n",
      "during  cortical  development .  Cell  2015,  163:55-67  http://dx.doi.\n",
      "org/10.1016/j.cell.2015.09.004 .\n",
      "14.  Fuzik  J  et  al.:  Integration  of  electrophysiological  recordings\n",
      "with  single-cell  RNA-seq  data  identiﬁes  neuronal  subtypes .\n",
      "Nat  Biotechnol  2016,  34:175-183  http://dx.doi.org/10.1038/\n",
      "nbt.3443 .\n",
      "15.  Sato  T  et  al.:  Single  Lgr5  stem  cells  build  crypt-villus  structures\n",
      "in  vitro  without  a  mesenchymal  niche .  Nature  2009,  459:262-\n",
      "265  http://dx.doi.org/10.1038/nature07935 .\n",
      "16.  Stange  DE  et  al.:  Differentiated  Troy+  chief  cells  act  as  reserve\n",
      "stem  cells  to  generate  all  lineages  of  the  stomach  epithelium .\n",
      "Cell  2013,  155:357-368  http://dx.doi.org/10.1016/j.\n",
      "cell.2013.09.008 .\n",
      "17.  Spence  JR  et  al.:  Directed  differentiation  of  human  pluripotent\n",
      "stem  cells  into  intestinal  tissue  in  vitro .  Nature  2011,  470:105-\n",
      "109  http://dx.doi.org/10.1038/nature09691 .\n",
      "18.  McCracken  KW  et  al.:  Modelling  human  development  and\n",
      "disease  in  pluripotent  stem-cell-derived  gastric  organoids .\n",
      "Nature  2014,  516:400-404  http://dx.doi.org/10.1038/nature13863 .\n",
      "19.  Grun  D  et  al.:  Single-cell  messenger  RNA  sequencing  reveals\n",
      "rare  intestinal  cell  types .  Nature  2015,  525:251-255  http://dx.doi.\n",
      "org/10.1038/nature14966 .\n",
      "20.\n",
      "/C15/C15Haber  AL  et  al.:  A  single-cell  survey  of  the  small  intestinal\n",
      "epithelium .  Nature  2017,  551:333-339  http://dx.doi.org/10.1038/\n",
      "nature24489 .\n",
      "This  manuscript  used  scRNA-seq  to  ﬁrst  establish  an  atlas  of  cell  diversity\n",
      "in  the  mouse  small  intestinal  epithelium  and  3D  organoid  cultures  derived\n",
      "from  adult  stem  cells,  and  then  used  scRNA-seq  to  analyze  how  each  cell\n",
      "type  within  the  intestinal  organoid  cultures  respond  to  different  intestinal\n",
      "microbes.  Higher  throughput  methods  enabled  comprehensive  compar-\n",
      "isons  of  organoids  in  different  environmental  conditions.\n",
      "21.  Mallanna  SK,  Duncan  SA:  Differentiation  of  hepatocytes  from\n",
      "pluripotent  stem  cells .  Curr  Protoc  Stem  Cell  Biol  2013,  26  http://\n",
      "dx.doi.org/10.1002/9780470151808.sc01gs26  Unit  1G  4.\n",
      "22.  Cahan  P  et  al.:  CellNet:  network  biology  applied  to  stem  cell\n",
      "engineering .  Cell  2014,  158:903-915  http://dx.doi.org/10.1016/j.\n",
      "cell.2014.07.020 .\n",
      "23.  Takebe  T  et  al.:  Vascularized  and  functional  human  liver  from\n",
      "an  iPSC-derived  organ  bud  transplant .  Nature  2013,  499:481-\n",
      "484  http://dx.doi.org/10.1038/nature12271 .24.  Camp  JG  et  al.:  Multilineage  communication  regulates  human\n",
      "liver  bud  development  from  pluripotency .  Nature  2017,\n",
      "546:533-538  http://dx.doi.org/10.1038/nature22796 .\n",
      "25.  Kegel  V  et  al.:  Protocol  for  isolation  of  primary  human\n",
      "hepatocytes  and  corresponding  major  populations  of  non-\n",
      "parenchymal  liver  cells .  J  Vis  Exp  2016:e53069  http://dx.doi.org/\n",
      "10.3791/53069 .\n",
      "26.  Huch  M  et  al.:  Long-term  culture  of  genome-stable  bipotent\n",
      "stem  cells  from  adult  human  liver.  Cell  2015,  160:299-312  http://\n",
      "dx.doi.org/10.1016/j.cell.2014.11.050 .\n",
      "27.  Halpern  KB  et  al.:  Single-cell  spatial  reconstruction  reveals\n",
      "global  division  of  labour  in  the  mammalian  liver.  Nature  2017,\n",
      "542:352-356  http://dx.doi.org/10.1038/nature21065 .\n",
      "28.  Takasato  M  et  al.:  Kidney  organoids  from  human  iPS  cells\n",
      "contain  multiple  lineages  and  model  human  nephrogenesis .\n",
      "Nature  2015,  526:564-568  http://dx.doi.org/10.1038/nature15695 .\n",
      "29.  Morizane  R  et  al.:  Nephron  organoids  derived  from  human\n",
      "pluripotent  stem  cells  model  kidney  development  and  injury .\n",
      "Nat  Biotechnol  2015,  33:1193-1200  http://dx.doi.org/10.1038/\n",
      "nbt.3392 .\n",
      "30.  Combes  AN  et  al.:  High  throughput  single  cell  RNA-seq  of\n",
      "developing  mouse  kidney  and  human  kidney  organoids\n",
      "reveals  a  roadmap  for  recreating  the  kidney .  bioRxiv .  2017\n",
      "http://dx.doi.org/10.1101/235499 .\n",
      "31.\n",
      "/C15/C15Wu  H  et  al.:  Comparative  analysis  of  kidney  organoid  and  adult\n",
      "human  kidney  single  cell  and  single  nucleus  transcriptomes .\n",
      "bioRxiv .  2017  http://dx.doi.org/10.1101/232561 .\n",
      "This  manuscript  quantitatively  compared  cell  composition,  similarity  to\n",
      "primary  tissue,  and  off-target  cell  type  emergence  in  two  different  human\n",
      "kidney  organoid  protocols  derived  from  iPSCs.\n",
      "32.  Park  J  et  al.:  Single-cell  transcriptomics  of  the  mouse  kidney\n",
      "reveals  potential  cellular  targets  of  kidney  disease .  Science\n",
      "2018,  360:758-763  http://dx.doi.org/10.1126/science.aar2131 .\n",
      "33.  Lindstrom  NO  et  al.:  Progressive  recruitment  of  mesenchymal\n",
      "progenitors  reveals  a  time-dependent  process  of  cell  fate\n",
      "acquisition  in  mouse  and  human  nephrogenesis .  Dev  Cell  2018,\n",
      "45:651-660  http://dx.doi.org/10.1016/j.devcel.2018.05.010  e654.\n",
      "34.  Czerniecki  SM  et  al.:  High-throughput  screening  enhances\n",
      "kidney  organoid  differentiation  from  human  pluripotent  stem\n",
      "cells  and  enables  automated  multidimensional  phenotyping .\n",
      "Cell  Stem  Cell  2018,  22:929-940  http://dx.doi.org/10.1016/j.\n",
      "stem.2018.04.022  e924.\n",
      "35.  Lein  E,  Borm  LE,  Linnarsson  S:  The  promise  of  spatial\n",
      "transcriptomics  for  neuroscience  in  the  era  of  molecular  cell\n",
      "typing .  Science  2017,  358:64-69  http://dx.doi.org/10.1126/\n",
      "science.aan6827 .\n",
      "36.  Spanjaard  B  et  al.:  Simultaneous  lineage  tracing  and  cell-type\n",
      "identiﬁcation  using  CRISPR-Cas9-induced  genetic  scars .  Nat\n",
      "Biotechnol  2018,  36:469-473  http://dx.doi.org/10.1038/nbt.4124 .\n",
      "37.  Stoeckius  M  et  al.:  Cell  “hashing”  with  barcoded  antibodies\n",
      "enables  multiplexing  and  doublet  detection  for  single  cell\n",
      "genomics .  bioRxiv .  2017  http://dx.doi.org/10.1101/237693 .\n",
      "38.\n",
      "/C15Cao  J  et  al.:  Comprehensive  single-cell  transcriptional  proﬁling\n",
      "of  a  multicellular  organism .  Science  2017,  357:661-667  http://\n",
      "dx.doi.org/10.1126/science.aam8940 .\n",
      "This  paper  described  a  combinatorial  barcoding  approach  to  generate\n",
      "single-cell  transcriptomes  without  ﬁrst  compartmentalizing  the  cell  into  a\n",
      "well  or  droplet.  This  strategy  could  in  principle  be  used  to  scale  up  the\n",
      "number  of  conditions  (genetic,  environmental,  or  temporal)  that  can  be\n",
      "analyzed  in  organoids  by  lowering  the  cost  and  also  because  the  method\n",
      "can  be  performed  in  96  well  plates,  a  convenient  platform  for  some\n",
      "organoid  culture  protocols.\n",
      "39.  Cleary  B,  Cong  L,  Cheung  A,  Lander  ES,  Regev  A:  Efﬁcient\n",
      "generation  of  transcriptomic  proﬁles  by  random  composite\n",
      "measurements .  Cell  2017,  171:1424-1436  http://dx.doi.org/\n",
      "10.1016/j.cell.2017.10.023  e1418.scRNA-seq  on  organoids  Brazovskaja,  Treutlein  and  Camp  171\n",
      "www.sciencedirect.com  Current  Opinion  in  Biotechnology  2019,  55:167–171\n"
     ]
    }
   ],
   "source": [
    "from langchain.document_loaders import PyPDFLoader\n",
    "\n",
    "loader = PyPDFLoader(os.path.join(sample_pdf_dir, '1-s2.0-S0958166918300417-main.pdf'), extract_images=False)\n",
    "pages = loader.load()\n",
    "print(f'page 0: {pages[4].page_content}')"
   ],
   "metadata": {
    "collapsed": false,
    "ExecuteTime": {
     "end_time": "2023-11-11T14:52:18.007300Z",
     "start_time": "2023-11-11T14:52:17.523824Z"
    }
   },
   "id": "14cd6c498b582837"
  },
  {
   "cell_type": "markdown",
   "source": [
    "Now, we use the openai embeddings. Running the cell below would prompt us to enter the api key."
   ],
   "metadata": {
    "collapsed": false
   },
   "id": "ffb76013956c837"
  },
  {
   "cell_type": "code",
   "execution_count": 16,
   "outputs": [],
   "source": [
    "import os\n",
    "import getpass\n",
    "\n",
    "os.environ['OPENAI_API_KEY'] = getpass.getpass('OpenAI API Key:')"
   ],
   "metadata": {
    "collapsed": false,
    "ExecuteTime": {
     "end_time": "2023-11-11T14:45:26.320934Z",
     "start_time": "2023-11-11T14:45:23.141695Z"
    }
   },
   "id": "7a953850b1cfb104"
  },
  {
   "cell_type": "markdown",
   "source": [
    "Next, we can convert the text into openai embeddings"
   ],
   "metadata": {
    "collapsed": false
   },
   "id": "549e4a240d2dbd1f"
  },
  {
   "cell_type": "code",
   "execution_count": 21,
   "outputs": [
    {
     "ename": "ImportError",
     "evalue": "Could not import tiktoken python package. This is needed in order to for OpenAIEmbeddings. Please install it with `pip install tiktoken`.",
     "output_type": "error",
     "traceback": [
      "\u001B[0;31m---------------------------------------------------------------------------\u001B[0m",
      "\u001B[0;31mModuleNotFoundError\u001B[0m                       Traceback (most recent call last)",
      "File \u001B[0;32m~/anaconda3/lib/python3.11/site-packages/langchain/embeddings/openai.py:380\u001B[0m, in \u001B[0;36mOpenAIEmbeddings._get_len_safe_embeddings\u001B[0;34m(self, texts, engine, chunk_size)\u001B[0m\n\u001B[1;32m    379\u001B[0m \u001B[38;5;28;01mtry\u001B[39;00m:\n\u001B[0;32m--> 380\u001B[0m     \u001B[38;5;28;01mimport\u001B[39;00m \u001B[38;5;21;01mtiktoken\u001B[39;00m\n\u001B[1;32m    381\u001B[0m \u001B[38;5;28;01mexcept\u001B[39;00m \u001B[38;5;167;01mImportError\u001B[39;00m:\n",
      "\u001B[0;31mModuleNotFoundError\u001B[0m: No module named 'tiktoken'",
      "\nDuring handling of the above exception, another exception occurred:\n",
      "\u001B[0;31mImportError\u001B[0m                               Traceback (most recent call last)",
      "Cell \u001B[0;32mIn[21], line 4\u001B[0m\n\u001B[1;32m      1\u001B[0m \u001B[38;5;28;01mfrom\u001B[39;00m \u001B[38;5;21;01mlangchain\u001B[39;00m\u001B[38;5;21;01m.\u001B[39;00m\u001B[38;5;21;01mvectorstores\u001B[39;00m \u001B[38;5;28;01mimport\u001B[39;00m FAISS\n\u001B[1;32m      2\u001B[0m \u001B[38;5;28;01mfrom\u001B[39;00m \u001B[38;5;21;01mlangchain\u001B[39;00m\u001B[38;5;21;01m.\u001B[39;00m\u001B[38;5;21;01membeddings\u001B[39;00m\u001B[38;5;21;01m.\u001B[39;00m\u001B[38;5;21;01mopenai\u001B[39;00m \u001B[38;5;28;01mimport\u001B[39;00m OpenAIEmbeddings\n\u001B[0;32m----> 4\u001B[0m faiss_index \u001B[38;5;241m=\u001B[39m FAISS\u001B[38;5;241m.\u001B[39mfrom_documents(pages, OpenAIEmbeddings())\n\u001B[1;32m      5\u001B[0m docs \u001B[38;5;241m=\u001B[39m faiss_index\u001B[38;5;241m.\u001B[39msimilarity_search(\u001B[38;5;124m\"\u001B[39m\u001B[38;5;124mHow will the community be engaged?\u001B[39m\u001B[38;5;124m\"\u001B[39m, k\u001B[38;5;241m=\u001B[39m\u001B[38;5;241m2\u001B[39m)\n\u001B[1;32m      6\u001B[0m \u001B[38;5;28;01mfor\u001B[39;00m doc \u001B[38;5;129;01min\u001B[39;00m docs:\n",
      "File \u001B[0;32m~/anaconda3/lib/python3.11/site-packages/langchain/schema/vectorstore.py:510\u001B[0m, in \u001B[0;36mVectorStore.from_documents\u001B[0;34m(cls, documents, embedding, **kwargs)\u001B[0m\n\u001B[1;32m    508\u001B[0m texts \u001B[38;5;241m=\u001B[39m [d\u001B[38;5;241m.\u001B[39mpage_content \u001B[38;5;28;01mfor\u001B[39;00m d \u001B[38;5;129;01min\u001B[39;00m documents]\n\u001B[1;32m    509\u001B[0m metadatas \u001B[38;5;241m=\u001B[39m [d\u001B[38;5;241m.\u001B[39mmetadata \u001B[38;5;28;01mfor\u001B[39;00m d \u001B[38;5;129;01min\u001B[39;00m documents]\n\u001B[0;32m--> 510\u001B[0m \u001B[38;5;28;01mreturn\u001B[39;00m \u001B[38;5;28mcls\u001B[39m\u001B[38;5;241m.\u001B[39mfrom_texts(texts, embedding, metadatas\u001B[38;5;241m=\u001B[39mmetadatas, \u001B[38;5;241m*\u001B[39m\u001B[38;5;241m*\u001B[39mkwargs)\n",
      "File \u001B[0;32m~/anaconda3/lib/python3.11/site-packages/langchain/vectorstores/faiss.py:911\u001B[0m, in \u001B[0;36mFAISS.from_texts\u001B[0;34m(cls, texts, embedding, metadatas, ids, **kwargs)\u001B[0m\n\u001B[1;32m    884\u001B[0m \u001B[38;5;129m@classmethod\u001B[39m\n\u001B[1;32m    885\u001B[0m \u001B[38;5;28;01mdef\u001B[39;00m \u001B[38;5;21mfrom_texts\u001B[39m(\n\u001B[1;32m    886\u001B[0m     \u001B[38;5;28mcls\u001B[39m,\n\u001B[0;32m   (...)\u001B[0m\n\u001B[1;32m    891\u001B[0m     \u001B[38;5;241m*\u001B[39m\u001B[38;5;241m*\u001B[39mkwargs: Any,\n\u001B[1;32m    892\u001B[0m ) \u001B[38;5;241m-\u001B[39m\u001B[38;5;241m>\u001B[39m FAISS:\n\u001B[1;32m    893\u001B[0m \u001B[38;5;250m    \u001B[39m\u001B[38;5;124;03m\"\"\"Construct FAISS wrapper from raw documents.\u001B[39;00m\n\u001B[1;32m    894\u001B[0m \n\u001B[1;32m    895\u001B[0m \u001B[38;5;124;03m    This is a user friendly interface that:\u001B[39;00m\n\u001B[0;32m   (...)\u001B[0m\n\u001B[1;32m    909\u001B[0m \u001B[38;5;124;03m            faiss = FAISS.from_texts(texts, embeddings)\u001B[39;00m\n\u001B[1;32m    910\u001B[0m \u001B[38;5;124;03m    \"\"\"\u001B[39;00m\n\u001B[0;32m--> 911\u001B[0m     embeddings \u001B[38;5;241m=\u001B[39m embedding\u001B[38;5;241m.\u001B[39membed_documents(texts)\n\u001B[1;32m    912\u001B[0m     \u001B[38;5;28;01mreturn\u001B[39;00m \u001B[38;5;28mcls\u001B[39m\u001B[38;5;241m.\u001B[39m__from(\n\u001B[1;32m    913\u001B[0m         texts,\n\u001B[1;32m    914\u001B[0m         embeddings,\n\u001B[0;32m   (...)\u001B[0m\n\u001B[1;32m    918\u001B[0m         \u001B[38;5;241m*\u001B[39m\u001B[38;5;241m*\u001B[39mkwargs,\n\u001B[1;32m    919\u001B[0m     )\n",
      "File \u001B[0;32m~/anaconda3/lib/python3.11/site-packages/langchain/embeddings/openai.py:549\u001B[0m, in \u001B[0;36mOpenAIEmbeddings.embed_documents\u001B[0;34m(self, texts, chunk_size)\u001B[0m\n\u001B[1;32m    546\u001B[0m \u001B[38;5;66;03m# NOTE: to keep things simple, we assume the list may contain texts longer\u001B[39;00m\n\u001B[1;32m    547\u001B[0m \u001B[38;5;66;03m#       than the maximum context and use length-safe embedding function.\u001B[39;00m\n\u001B[1;32m    548\u001B[0m engine \u001B[38;5;241m=\u001B[39m cast(\u001B[38;5;28mstr\u001B[39m, \u001B[38;5;28mself\u001B[39m\u001B[38;5;241m.\u001B[39mdeployment)\n\u001B[0;32m--> 549\u001B[0m \u001B[38;5;28;01mreturn\u001B[39;00m \u001B[38;5;28mself\u001B[39m\u001B[38;5;241m.\u001B[39m_get_len_safe_embeddings(texts, engine\u001B[38;5;241m=\u001B[39mengine)\n",
      "File \u001B[0;32m~/anaconda3/lib/python3.11/site-packages/langchain/embeddings/openai.py:382\u001B[0m, in \u001B[0;36mOpenAIEmbeddings._get_len_safe_embeddings\u001B[0;34m(self, texts, engine, chunk_size)\u001B[0m\n\u001B[1;32m    380\u001B[0m     \u001B[38;5;28;01mimport\u001B[39;00m \u001B[38;5;21;01mtiktoken\u001B[39;00m\n\u001B[1;32m    381\u001B[0m \u001B[38;5;28;01mexcept\u001B[39;00m \u001B[38;5;167;01mImportError\u001B[39;00m:\n\u001B[0;32m--> 382\u001B[0m     \u001B[38;5;28;01mraise\u001B[39;00m \u001B[38;5;167;01mImportError\u001B[39;00m(\n\u001B[1;32m    383\u001B[0m         \u001B[38;5;124m\"\u001B[39m\u001B[38;5;124mCould not import tiktoken python package. \u001B[39m\u001B[38;5;124m\"\u001B[39m\n\u001B[1;32m    384\u001B[0m         \u001B[38;5;124m\"\u001B[39m\u001B[38;5;124mThis is needed in order to for OpenAIEmbeddings. \u001B[39m\u001B[38;5;124m\"\u001B[39m\n\u001B[1;32m    385\u001B[0m         \u001B[38;5;124m\"\u001B[39m\u001B[38;5;124mPlease install it with `pip install tiktoken`.\u001B[39m\u001B[38;5;124m\"\u001B[39m\n\u001B[1;32m    386\u001B[0m     )\n\u001B[1;32m    388\u001B[0m tokens \u001B[38;5;241m=\u001B[39m []\n\u001B[1;32m    389\u001B[0m indices \u001B[38;5;241m=\u001B[39m []\n",
      "\u001B[0;31mImportError\u001B[0m: Could not import tiktoken python package. This is needed in order to for OpenAIEmbeddings. Please install it with `pip install tiktoken`."
     ]
    }
   ],
   "source": [
    "from langchain.vectorstores import FAISS\n",
    "from langchain.embeddings.openai import OpenAIEmbeddings\n",
    "\n",
    "faiss_index = FAISS.from_documents(pages, OpenAIEmbeddings())\n",
    "docs = faiss_index.similarity_search(\"How will the community be engaged?\", k=2)\n",
    "for doc in docs:\n",
    "    print(str(doc.metadata[\"page\"]) + \":\", doc.page_content[:300])"
   ],
   "metadata": {
    "collapsed": false,
    "ExecuteTime": {
     "end_time": "2023-11-11T14:53:16.132038Z",
     "start_time": "2023-11-11T14:53:13.598710Z"
    }
   },
   "id": "57b5438191697c06"
  },
  {
   "cell_type": "markdown",
   "source": [
    "We can also extract images as text as well"
   ],
   "metadata": {
    "collapsed": false
   },
   "id": "c49eb332e8a043b"
  },
  {
   "cell_type": "markdown",
   "source": [],
   "metadata": {
    "collapsed": false
   },
   "id": "26c4508dcb6dde1b"
  }
 ],
 "metadata": {
  "kernelspec": {
   "display_name": "Python 3",
   "language": "python",
   "name": "python3"
  },
  "language_info": {
   "codemirror_mode": {
    "name": "ipython",
    "version": 2
   },
   "file_extension": ".py",
   "mimetype": "text/x-python",
   "name": "python",
   "nbconvert_exporter": "python",
   "pygments_lexer": "ipython2",
   "version": "2.7.6"
  }
 },
 "nbformat": 4,
 "nbformat_minor": 5
}
